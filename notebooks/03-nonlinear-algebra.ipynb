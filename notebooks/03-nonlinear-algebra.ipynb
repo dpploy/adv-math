{
 "cells": [
  {
   "cell_type": "markdown",
   "metadata": {},
   "source": [
    "Advanced Mathematics for Nuclear Chemical Engineering August 2020 UMass Lowell; Prof. V. F. de Almeida **06Aug2020**\n",
    "\n",
    "# 03. Non-Linear Algebra\n",
    "$  \n",
    "  \\newcommand{\\Amtrx}{\\boldsymbol{\\mathsf{A}}}\n",
    "  \\newcommand{\\Bmtrx}{\\boldsymbol{\\mathsf{B}}}\n",
    "  \\newcommand{\\Mmtrx}{\\boldsymbol{\\mathsf{M}}}\n",
    "  \\newcommand{\\Imtrx}{\\boldsymbol{\\mathsf{I}}}\n",
    "  \\newcommand{\\Pmtrx}{\\boldsymbol{\\mathsf{P}}}\n",
    "  \\newcommand{\\Lmtrx}{\\boldsymbol{\\mathsf{L}}}\n",
    "  \\newcommand{\\Umtrx}{\\boldsymbol{\\mathsf{U}}}\n",
    "  \\newcommand{\\Jmtrx}{\\boldsymbol{\\mathsf{J}}}\n",
    "  \\newcommand{\\Smtrx}{\\boldsymbol{\\mathsf{S}}}\n",
    "  \\newcommand{\\Xmtrx}{\\boldsymbol{\\mathsf{X}}}\n",
    "  \\newcommand{\\Kmtrx}{\\boldsymbol{\\mathsf{K}}}\n",
    "  \\newcommand{\\xvec}{\\boldsymbol{x}}\n",
    "  \\newcommand{\\avec}{\\boldsymbol{\\mathsf{a}}}\n",
    "  \\newcommand{\\bvec}{\\boldsymbol{\\mathsf{b}}}\n",
    "  \\newcommand{\\cvec}{\\boldsymbol{\\mathsf{c}}}\n",
    "  \\newcommand{\\rvec}{\\boldsymbol{\\mathsf{r}}}\n",
    "  \\newcommand{\\mvec}{\\boldsymbol{\\mathsf{m}}}\n",
    "  \\newcommand{\\gvec}{\\boldsymbol{\\mathsf{g}}}\n",
    "  \\newcommand{\\zerovec}{\\boldsymbol{\\mathsf{0}}}\n",
    "  \\newcommand{\\norm}[1]{\\bigl\\lVert{#1}\\bigr\\rVert}\n",
    "  \\newcommand{\\abs}[1]{\\left\\lvert{#1}\\right\\rvert}\n",
    "  \\newcommand{\\transpose}[1]{{#1}^\\top}\n",
    "  \\DeclareMathOperator{\\rank}{rank}\n",
    "  \\DeclareMathOperator{\\gradx}{\\nabla\\!_{\\xvec}}\n",
    "  \\newcommand{\\Kcal}{\\mathcal{K}}\n",
    "  \\newcommand{\\Fcal}{\\mathcal{F}}\n",
    "  \\newcommand{\\Kcalvec}{\\boldsymbol{\\mathcal{K}}}\n",
    "  \\newcommand{\\Fcalvec}{\\boldsymbol{\\mathcal{F}}}\n",
    "  \\newcommand{\\epsvec}{\\boldsymbol{\\varepsilon}}\n",
    "$"
   ]
  },
  {
   "cell_type": "markdown",
   "metadata": {},
   "source": [
    "---\n",
    "## Table of Contents<a id=\"toc\"></a>\n",
    "* [Non-Linear System of Algebraic Equations](#linalg)\n",
    " - Newton's method, Jacobian matrix, iterative algorithm\n",
    "* [Non-Linear Least-Squares Method](#llsq)\n",
    " - Incomplete Newton's method\n",
    "---"
   ]
  },
  {
   "cell_type": "markdown",
   "metadata": {},
   "source": [
    "## [Non-Linear System of Algebraic Equations](#toc)<a id=\"linalg\"></a>\n",
    "\n",
    "The course notes in [ChEn-3170-nonlinalg-a](https://studentuml-my.sharepoint.com/:o:/g/personal/valmor_dealmeida_uml_edu/EsURG6azFKdHg13aiJdg0X8Bwn1JHj9ziyIz3bXrr2CjRw?e=P2EkeB), [ChEn-3170-nonlinalg-b](https://studentuml-my.sharepoint.com/:o:/g/personal/valmor_dealmeida_uml_edu/Et5dh9qx7wlIhSwTMHlUejoBEmLfisX9lBT-wHs5zVttgQ?e=WhR37k), and [ChEn-3170-nonlinalg-c](https://studentuml-my.sharepoint.com/:o:/g/personal/valmor_dealmeida_uml_edu/Ei3KyNR90cVBnzOTgU04-1YBlN77e7yejChMxKWtZD3jtg?e=3N7UQF) progressively cover basic elements of Newton's method for non-linear system of algebraic equations as applied to chemical reactions in equilibrium. These elements apply equaly well to general system of non-linear algebraic equations. Computational examples are found in [ChEn-3170 Notebook 13](https://nbviewer.jupyter.org/github/dpploy/chen-3170/blob/master/notebooks/13-nonlinear-root-finding.ipynb), [ChEn-3170 Notebook 14](https://nbviewer.jupyter.org/github/dpploy/chen-3170/blob/master/notebooks/14-single-reaction-equilibrium.ipynb) and [ChEn-3170 Notebook 15](https://nbviewer.jupyter.org/github/dpploy/chen-3170/blob/master/notebooks/15-multiple-reactions-equilibrium.ipynb)."
   ]
  },
  {
   "cell_type": "markdown",
   "metadata": {},
   "source": [
    "## [Non-Linear Least-Squares Method](#toc)<a id=\"llsq\"></a>\n",
    "\n",
    "The non-linear least-squares method handles cases when the relationship between parameters is non-linear. Similarly to its linear counterpart, it has widespread applications in engineering and science.\n",
    "\n",
    "The non-linear least-squares method is an example of the usage of Newton's method for non-linear algebraic equations. Notes can be found in [ChEn-3170-nllsq](https://studentuml-my.sharepoint.com/:o:/g/personal/valmor_dealmeida_uml_edu/EqGM1mM9GghIl0bfPiav20QBf77_wXh_9dyOBNoPu75znA?e=WDILM4), and examples in [ChEn-3170 Notebook 16](https://nbviewer.jupyter.org/github/dpploy/chen-3170/blob/master/notebooks/16-non-linear-lsq-arrhenius-data-fit.ipynb)"
   ]
  }
 ],
 "metadata": {
  "kernelspec": {
   "display_name": "Python 3",
   "language": "python",
   "name": "python3"
  },
  "language_info": {
   "codemirror_mode": {
    "name": "ipython",
    "version": 3
   },
   "file_extension": ".py",
   "mimetype": "text/x-python",
   "name": "python",
   "nbconvert_exporter": "python",
   "pygments_lexer": "ipython3",
   "version": "3.7.1"
  },
  "latex_envs": {
   "LaTeX_envs_menu_present": true,
   "autoclose": false,
   "autocomplete": true,
   "bibliofile": "biblio.bib",
   "cite_by": "apalike",
   "current_citInitial": 1,
   "eqLabelWithNumbers": true,
   "eqNumInitial": 1,
   "hotkeys": {
    "equation": "Ctrl-E",
    "itemize": "Ctrl-I"
   },
   "labels_anchors": false,
   "latex_user_defs": false,
   "report_style_numbering": false,
   "user_envs_cfg": false
  }
 },
 "nbformat": 4,
 "nbformat_minor": 2
}
