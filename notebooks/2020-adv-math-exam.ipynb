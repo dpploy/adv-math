{
 "cells": [
  {
   "cell_type": "markdown",
   "metadata": {},
   "source": [
    "Advanced Mathematics for Nuclear Chemical Engineering August 2020 UMass Lowell; Prof. V. F. de Almeida **02Aug2020**\n",
    "\n",
    "# Written Qualifying Exam Ph.D. (27Aug20, 2-5 pm, online)\n",
    "$\n",
    "  \\newcommand{\\Amtrx}{\\boldsymbol{\\mathsf{A}}}\n",
    "  \\newcommand{\\Bmtrx}{\\boldsymbol{\\mathsf{B}}}\n",
    "  \\newcommand{\\Cmtrx}{\\boldsymbol{\\mathsf{C}}}\n",
    "  \\newcommand{\\Mmtrx}{\\boldsymbol{\\mathsf{M}}}\n",
    "  \\newcommand{\\Imtrx}{\\boldsymbol{\\mathsf{I}}}\n",
    "  \\newcommand{\\Lmtrx}{\\boldsymbol{\\mathsf{L}}}\n",
    "  \\newcommand{\\Umtrx}{\\boldsymbol{\\mathsf{U}}}\n",
    "  \\newcommand{\\Smtrx}{\\boldsymbol{\\mathsf{S}}}\n",
    "  \\newcommand{\\Pmtrx}{\\boldsymbol{\\mathsf{P}}}\n",
    "  \\newcommand{\\xvec}{\\boldsymbol{\\mathsf{x}}}\n",
    "  \\newcommand{\\yvec}{\\boldsymbol{\\mathsf{y}}}\n",
    "  \\newcommand{\\zvec}{\\boldsymbol{\\mathsf{z}}}\n",
    "  \\newcommand{\\avec}{\\boldsymbol{\\mathsf{a}}}\n",
    "  \\newcommand{\\bvec}{\\boldsymbol{\\mathsf{b}}}\n",
    "  \\newcommand{\\cvec}{\\boldsymbol{\\mathsf{c}}}\n",
    "  \\newcommand{\\rvec}{\\boldsymbol{\\mathsf{r}}}\n",
    "  \\newcommand{\\gvec}{\\boldsymbol{\\mathsf{g}}}\n",
    "  \\newcommand{\\pvec}{\\boldsymbol{\\mathsf{p}}}\n",
    "  \\newcommand{\\zerovec}{\\boldsymbol{\\mathsf{0}}}\n",
    "  \\newcommand{\\thetavec}{\\boldsymbol{\\theta}}\n",
    "  \\newcommand{\\norm}[1]{\\bigl\\lVert{#1}\\bigr\\rVert}\n",
    "  \\DeclareMathOperator{\\rank}{rank}\n",
    "  \\DeclareMathOperator{\\abs}{abs}\n",
    "  \\newcommand{\\Reals}{\\mathbb{R}}\n",
    "$"
   ]
  },
  {
   "cell_type": "markdown",
   "metadata": {},
   "source": [
    "### Name:"
   ]
  },
  {
   "cell_type": "markdown",
   "metadata": {},
   "source": [
    "### <span style=\"color:red\">Guidance:</span>\n",
    "   * <span style=\"color:red\"> This is an open book/notes, individual exam (PDF file). </span>\n",
    "   * <span style=\"color:red\"> This is an analytical exam; no computer-aided method is needed. </span>\n",
    "   * <span style=\"color:red\"> You may use a calculator but all solution steps must be shown. </span>\n",
    "   * <span style=\"color:red\"> The completed exam (PDF) should be submitted within 20 minutes after 5 pm via email to Prof. de Almeida: valmor_dealmeida@uml.edu. </span>"
   ]
  },
  {
   "cell_type": "markdown",
   "metadata": {},
   "source": [
    "### Rubric Panel<a id=\"rp\"></a>\n",
    "\n",
    "|  No.     |                     Topic            |  Value              | Score   |\n",
    "|:--------:|:-------------------------------------|:-------------------:|:-------:|\n",
    "| [1](#p1) | [Fission Product Heat Decay](#p1)    | 35                  |         |  \n",
    "| [2](#p2) | [Point-Reactor Dynamics](#p2)        | 35                  |         |   \n",
    "| [3](#p3) | [Volatile Radionuclide Leakage](#p3) | 30                  |         |  \n",
    "|  -       |    Total                             | 100                 |         |"
   ]
  },
  {
   "cell_type": "markdown",
   "metadata": {},
   "source": [
    "\n",
    "\n",
    "\n",
    "\n",
    "\n",
    "\n",
    "\n",
    "\n"
   ]
  },
  {
   "cell_type": "markdown",
   "metadata": {},
   "source": [
    "### [Problem 1 (35 pts)](#rp): Fission Product Heat Decay<a id=\"p1\"></a>"
   ]
  },
  {
   "cell_type": "markdown",
   "metadata": {},
   "source": [
    "<span style=\"color:blue\">\n",
    "The combined heat decay of $\\beta^-$ and $\\gamma$ radiation of fission products is measured as presented in the table\n",
    "</span>\n",
    "\n",
    "| Time [s] | Heat Decay Power [Mev/s-fission]  |\n",
    "|--------------------|------------------------|\n",
    "|$e^2$    | $6\\times 10^{-1}$ | \n",
    "|$e^8$    | $3\\times 10^{-4}$ | \n",
    "|$e^{13}$ | $3\\times 10^{-7}$ |\n",
    "\n",
    "<span style=\"color:blue\">\n",
    "An experimental fit of heat decay power, $P$, versus time, $t$, is used in the form\n",
    "    \n",
    "\\begin{equation*}\n",
    "\\boxed{ P(t) = a\\, t^{-b} },\n",
    "\\end{equation*}\n",
    "    \n",
    "where $a$ and $b$ are parameters to be determined. Provide results for the following:\n",
    "\n",
    " - [1.1)](#p11) Calculate the *best* values for the parameters $a$ and $b$.\n",
    " - [1.2)](#p12) State the underlying optimality condition mathematically.\n",
    " - [1.3)](#p13) Prove that the values of $a$ and $b$ are optimal and unique.\n",
    " - [1.4)](#p14) Calculate the sensitivity of $a$ and $b$ with respect to power. Which one is more sensitive? At what power level is the sensitivity the greatest?\n",
    " \n",
    " </span>"
   ]
  },
  {
   "cell_type": "markdown",
   "metadata": {},
   "source": [
    "\n",
    "\n",
    "\n",
    "\n",
    "\n",
    "\n",
    "\n",
    "\n",
    "\n",
    "\n",
    "\n",
    "\n",
    "\n",
    "\n",
    "\n",
    "\n",
    "\n",
    "\n"
   ]
  },
  {
   "cell_type": "markdown",
   "metadata": {},
   "source": [
    "### [Problem 2 (35 pts)](#rp): Point-Reactor Dynamics<a id=\"p2\"></a>"
   ]
  },
  {
   "cell_type": "markdown",
   "metadata": {},
   "source": [
    "<span style=\"color:blue\">\n",
    "    \n",
    "The space-invariant neutron balance for a point-reactor model can be written as follows:\n",
    "\n",
    "\\begin{equation*}\n",
    "\\frac{\\text{d}n}{\\text{d}t}  = \\frac{\\rho-\\beta}{\\ell}\\, n + \\sum\\limits_{i=1}^{m} \\lambda_i\\,c_i + q(t) , \\ \\ \\ \\  t \\in I,\n",
    "\\end{equation*}\n",
    "\n",
    "where the first term on the right side of the equation represents the net production of neutrons not accounting for delayed neutrons, and the second term accounts for the source of delayed neutrons considering $m$ groups of delayed neutron emitters resulting from fission. $I$ is the time interval $\\{t \\in \\Reals \\mid 0\\le t \\le t_\\text{f} \\}$ up to a final time $t_\\text{f}$. The last term on the right side is a time-dependent source. A balance of delayed neutron emitter species is also necessary\n",
    "\n",
    "\\begin{equation*}\n",
    "\\frac{\\text{d}c_i}{\\text{d}t}  = \\frac{\\beta_i}{\\ell}\\, n - \\lambda_i\\,c_i ,\n",
    "     \\ \\ \\ \\ \\ \\forall \\ \\ \\ \\ \\  i=1,\\ldots,m, \\ \\ \\ \\  t \\in I,\n",
    "\\end{equation*}\n",
    "\n",
    "where the first term on the right side of the equation is the source of emitters as a function of the neutron number density, $n(t)$, and the second term is the consumption rate of the emitter by radioactive decay obtained as a function of the product of the number concentration of the emmiter, $c_i(t)$, and its decay constant $\\lambda_i$. Here the number concentration of the $i$th emitter, $c_i$, is considered in terms of delayed neutron number density, hence the units are the same as $n$.\n",
    "\n",
    "If no delayed neutrons are present, $\\beta = 0$ and $\\beta_i = 0 \\ \\forall \\ i$, and the source $q(t)$ depends neither on $n(t)$ nor on $c_i(t)$, provide results for the following:\n",
    "\n",
    " - [2.1)](#p21) Solve for $n(t)$ analytically.\n",
    " - [2.2)](#p22) Given the reactivity $\\rho=10^{-2}$ and the neutron generation time $\\ell=10^{-4}$s, calculate the leading order term of $n(t)$ at $\\delta t = 1$s.\n",
    " - [2.3)](#p23) What are the ramifications of the previous result?\n",
    " - [2.4)](#p24) If delayed neutrons are present, can you still solve for $n(t)$ analytically? Justify your answer.\n",
    "\n",
    "</span>"
   ]
  },
  {
   "cell_type": "markdown",
   "metadata": {},
   "source": [
    "\n",
    "\n",
    "\n",
    "\n",
    "\n",
    "\n"
   ]
  },
  {
   "cell_type": "markdown",
   "metadata": {},
   "source": [
    "### [Problem 3 (30 pts)](#rp): Volatile Radionuclide Leakage<a id=\"p3\"></a>"
   ]
  },
  {
   "cell_type": "markdown",
   "metadata": {},
   "source": [
    "<span style=\"color:blue\">\n",
    "    \n",
    "A volatile radionuclide leaks through a cylindral pore (small diameter) connecting the inside of a shielded cell (radioactive) to the outside control room (occupied by people). The one-dimensional, time-dependent, concentration of the nuclide, $c(z,t)$, in the cylindrical pore evolves according to the governing equation\n",
    "\n",
    "\\begin{equation*}\n",
    "\\partial_t c + v\\,\\partial_z c = K \\,\\partial^2_{zz} c  \\ \\ \\text{in} \\ \\ \\Omega,\n",
    "\\end{equation*}\n",
    "\n",
    "with $z$ denoting the pore axial direction pointing from the inside of the cell towards the control room; the origin of the coordinate system is at the cell end side of the cylindrical pore. $\\Omega$ is the space-time domain $\\{(z,t)\\in \\Reals\\times I \\mid 0\\le z \\lt \\ell_\\text{p} \\}$ with $I$ denoting a time interval. $K$ is a positive constant. The concentration inside the cell is $c(0,t) = c_\\text{cell} , \\ \\forall \\ t \\in I$, and the concentration in the control room is $ c(\\ell_\\text{p},t) = c_\\text{cr} , \\ \\forall \\ t \\in I$. Therefore, the initial and boundary conditions read\n",
    "\n",
    "\\begin{align*}\n",
    "c(z,0) &= 0 \\ \\ \\ \\forall \\ \\ z\\in\\,]0,\\ell_\\text{p}[ ,\n",
    "\\\\\n",
    "c(0,t) &= c_\\text{cell}  \\ \\ \\forall \\ \\ t\\in I,\n",
    "\\\\\n",
    " c(\\ell_\\text{p},t) &= c_\\text{cr}  \\ \\ \\forall \\ \\ t\\in I,\n",
    "\\end{align*}\n",
    "\n",
    "respectively.\n",
    "\n",
    "The length of the cylindrical pore is $\\ell_\\text{p}$, and the velocity of the hydrodynamic flow is a constant $v$.\n",
    "\n",
    " - [3.1)](#p31) Explain the physical meaning of each term in the governing equation.\n",
    " - [3.2)](#p32) Solve for the steady state concentration. \n",
    " - [3.3)](#p33) What is the relaxation length (or convection length) of the concentration? Why knowing this length matters?\n",
    " - [3.4)](#p34) When is the steady state concentration linear in the independent variable?\n",
    " - [3.5)](#p35) Which parameter determines the convexity of the solution? When it is concave and when it is convex? Explain these two cases physically.\n",
    " - [3.6)](#p36) Solve for the transient concentration. \n",
    "\n",
    "</span>"
   ]
  }
 ],
 "metadata": {
  "kernelspec": {
   "display_name": "Python 3",
   "language": "python",
   "name": "python3"
  },
  "language_info": {
   "codemirror_mode": {
    "name": "ipython",
    "version": 3
   },
   "file_extension": ".py",
   "mimetype": "text/x-python",
   "name": "python",
   "nbconvert_exporter": "python",
   "pygments_lexer": "ipython3",
   "version": "3.8.3"
  },
  "latex_envs": {
   "LaTeX_envs_menu_present": true,
   "autoclose": false,
   "autocomplete": true,
   "bibliofile": "biblio.bib",
   "cite_by": "apalike",
   "current_citInitial": 1,
   "eqLabelWithNumbers": true,
   "eqNumInitial": 1,
   "hotkeys": {
    "equation": "Ctrl-E",
    "itemize": "Ctrl-I"
   },
   "labels_anchors": false,
   "latex_user_defs": false,
   "report_style_numbering": false,
   "user_envs_cfg": false
  },
  "toc": {
   "base_numbering": 1,
   "nav_menu": {},
   "number_sections": true,
   "sideBar": true,
   "skip_h1_title": false,
   "title_cell": "Table of Contents",
   "title_sidebar": "Contents",
   "toc_cell": false,
   "toc_position": {},
   "toc_section_display": true,
   "toc_window_display": false
  }
 },
 "nbformat": 4,
 "nbformat_minor": 2
}
