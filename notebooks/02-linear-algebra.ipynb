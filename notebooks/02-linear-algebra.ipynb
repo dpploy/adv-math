{
 "cells": [
  {
   "cell_type": "markdown",
   "metadata": {},
   "source": [
    "Advanced Mathematics for Nuclear Chemical Engineering August 2020 UMass Lowell; Prof. V. F. de Almeida **06Aug2020**\n",
    "\n",
    "# 02. Linear Algebra\n",
    "$  \n",
    "  \\newcommand{\\Amtrx}{\\boldsymbol{\\mathsf{A}}}\n",
    "  \\newcommand{\\Bmtrx}{\\boldsymbol{\\mathsf{B}}}\n",
    "  \\newcommand{\\Mmtrx}{\\boldsymbol{\\mathsf{M}}}\n",
    "  \\newcommand{\\Imtrx}{\\boldsymbol{\\mathsf{I}}}\n",
    "  \\newcommand{\\Pmtrx}{\\boldsymbol{\\mathsf{P}}}\n",
    "  \\newcommand{\\Lmtrx}{\\boldsymbol{\\mathsf{L}}}\n",
    "  \\newcommand{\\Umtrx}{\\boldsymbol{\\mathsf{U}}}\n",
    "  \\newcommand{\\Jmtrx}{\\boldsymbol{\\mathsf{J}}}\n",
    "  \\newcommand{\\Smtrx}{\\boldsymbol{\\mathsf{S}}}\n",
    "  \\newcommand{\\Xmtrx}{\\boldsymbol{\\mathsf{X}}}\n",
    "  \\newcommand{\\Kmtrx}{\\boldsymbol{\\mathsf{K}}}\n",
    "  \\newcommand{\\xvec}{\\boldsymbol{x}}\n",
    "  \\newcommand{\\avec}{\\boldsymbol{\\mathsf{a}}}\n",
    "  \\newcommand{\\bvec}{\\boldsymbol{\\mathsf{b}}}\n",
    "  \\newcommand{\\cvec}{\\boldsymbol{\\mathsf{c}}}\n",
    "  \\newcommand{\\rvec}{\\boldsymbol{\\mathsf{r}}}\n",
    "  \\newcommand{\\mvec}{\\boldsymbol{\\mathsf{m}}}\n",
    "  \\newcommand{\\gvec}{\\boldsymbol{\\mathsf{g}}}\n",
    "  \\newcommand{\\zerovec}{\\boldsymbol{\\mathsf{0}}}\n",
    "  \\newcommand{\\norm}[1]{\\bigl\\lVert{#1}\\bigr\\rVert}\n",
    "  \\newcommand{\\abs}[1]{\\left\\lvert{#1}\\right\\rvert}\n",
    "  \\newcommand{\\transpose}[1]{{#1}^\\top}\n",
    "  \\DeclareMathOperator{\\rank}{rank}\n",
    "  \\DeclareMathOperator{\\gradx}{\\nabla\\!_{\\xvec}}\n",
    "  \\newcommand{\\Kcal}{\\mathcal{K}}\n",
    "  \\newcommand{\\Fcal}{\\mathcal{F}}\n",
    "  \\newcommand{\\Kcalvec}{\\boldsymbol{\\mathcal{K}}}\n",
    "  \\newcommand{\\Fcalvec}{\\boldsymbol{\\mathcal{F}}}\n",
    "  \\newcommand{\\epsvec}{\\boldsymbol{\\varepsilon}}\n",
    "$"
   ]
  },
  {
   "cell_type": "markdown",
   "metadata": {},
   "source": [
    "---\n",
    "## Table of Contents<a id=\"toc\"></a>\n",
    "* [Linear System of Algebraic Equations](#linalg)\n",
    " - Solution existence, uniqueness, and matrix factorization\n",
    "* [Linear (Generalized) Least-Squares Method](#llsq)\n",
    "---"
   ]
  },
  {
   "cell_type": "markdown",
   "metadata": {},
   "source": [
    "## [Linear System of Algebraic Equations](#toc)<a id=\"linalg\"></a>\n",
    "\n",
    "The course notes in [ChEn-3170-linalg](https://studentuml-my.sharepoint.com/:o:/g/personal/valmor_dealmeida_uml_edu/EkHM3pyx7T9JpikMFFET9XsBCu5gwmKdo7AMeoYqAq5utw?e=dZerTZ) cover basic elements of linear system of algebraic equations as applied to computational stoichiometry. These elements apply equaly well to general system of algebraic equations. Pertinent aspects: solution existance, uniqueness, and matrix factorization. Computational examples are found in [ChEn-3170 Notebook 06](https://nbviewer.jupyter.org/github/dpploy/chen-3170/blob/master/notebooks/06-linear-algebra-fundamentals.ipynb) and [ChEn-3170 Notebook 07](https://nbviewer.jupyter.org/github/dpploy/chen-3170/blob/master/notebooks/07-computational-stoichiometry.ipynb)."
   ]
  },
  {
   "cell_type": "markdown",
   "metadata": {},
   "source": [
    "## [Linear Generalized Least-Squares Method](#toc)<a id=\"llsq\"></a>\n",
    "\n",
    "The linear least-squares method has widespread applications in engineering and science.\n",
    "Theory as applied to stoichiometry are found in [ChEn-3170-stoic](https://studentuml-my.sharepoint.com/:o:/g/personal/valmor_dealmeida_uml_edu/EpyjC-OiqeRGrnhztwwWeK4BTS-WJwB0Z9YAIkEDE_mstg?e=7Z21CR) but they apply equally well to other areas. Examples of full rank matrices can be found in [ChEn-3170 Notebook 08](https://nbviewer.jupyter.org/github/dpploy/chen-3170/blob/master/notebooks/08-full-rank-least-squares-reaction-rate.ipynb), rank-deficient examples in [ChEn-3170 Notebook 09](https://nbviewer.jupyter.org/github/dpploy/chen-3170/blob/master/notebooks/09-rank-deficient-least-squares-reaction-rate.ipynb) , generalized linear least-squares theory can be found in [ChEn-3170-gen-lsq](https://studentuml-my.sharepoint.com/:o:/g/personal/valmor_dealmeida_uml_edu/EiDX4EOcHeNHgt9Dc9sXOzwBRiorHNWeRw981aIvRgVyVQ?e=m60UEd) and the examples in [ChEn-3170 Notebook 12](https://nbviewer.jupyter.org/github/dpploy/chen-3170/blob/master/notebooks/12-lsq-fit-with-fourier-basis-functions.ipynb) or [ChEn-3170 Notebook 12a](https://nbviewer.jupyter.org/github/dpploy/chen-3170/blob/master/notebooks/12a-lsq-fit-with-wavelet-basis-functions.ipynb)."
   ]
  },
  {
   "cell_type": "code",
   "execution_count": null,
   "metadata": {},
   "outputs": [],
   "source": []
  }
 ],
 "metadata": {
  "kernelspec": {
   "display_name": "Python 3",
   "language": "python",
   "name": "python3"
  },
  "language_info": {
   "codemirror_mode": {
    "name": "ipython",
    "version": 3
   },
   "file_extension": ".py",
   "mimetype": "text/x-python",
   "name": "python",
   "nbconvert_exporter": "python",
   "pygments_lexer": "ipython3",
   "version": "3.7.1"
  },
  "latex_envs": {
   "LaTeX_envs_menu_present": true,
   "autoclose": false,
   "autocomplete": true,
   "bibliofile": "biblio.bib",
   "cite_by": "apalike",
   "current_citInitial": 1,
   "eqLabelWithNumbers": true,
   "eqNumInitial": 1,
   "hotkeys": {
    "equation": "Ctrl-E",
    "itemize": "Ctrl-I"
   },
   "labels_anchors": false,
   "latex_user_defs": false,
   "report_style_numbering": false,
   "user_envs_cfg": false
  }
 },
 "nbformat": 4,
 "nbformat_minor": 2
}
