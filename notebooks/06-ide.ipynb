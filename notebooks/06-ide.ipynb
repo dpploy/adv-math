{
 "cells": [
  {
   "cell_type": "markdown",
   "metadata": {},
   "source": [
    "Advanced Mathematics for Nuclear Chemical Engineering August 2020 UMass Lowell; Prof. V. F. de Almeida **07Aug2020**\n",
    "\n",
    "# 06. Integro-Differential Equations\n",
    "$  \n",
    "  \\newcommand{\\Amtrx}{\\boldsymbol{\\mathsf{A}}}\n",
    "  \\newcommand{\\Bmtrx}{\\boldsymbol{\\mathsf{B}}}\n",
    "  \\newcommand{\\Mmtrx}{\\boldsymbol{\\mathsf{M}}}\n",
    "  \\newcommand{\\Imtrx}{\\boldsymbol{\\mathsf{I}}}\n",
    "  \\newcommand{\\Pmtrx}{\\boldsymbol{\\mathsf{P}}}\n",
    "  \\newcommand{\\Lmtrx}{\\boldsymbol{\\mathsf{L}}}\n",
    "  \\newcommand{\\Umtrx}{\\boldsymbol{\\mathsf{U}}}\n",
    "  \\newcommand{\\Jmtrx}{\\boldsymbol{\\mathsf{J}}}\n",
    "  \\newcommand{\\Smtrx}{\\boldsymbol{\\mathsf{S}}}\n",
    "  \\newcommand{\\Xmtrx}{\\boldsymbol{\\mathsf{X}}}\n",
    "  \\newcommand{\\Kmtrx}{\\boldsymbol{\\mathsf{K}}}\n",
    "  \\newcommand{\\xvec}{\\boldsymbol{x}}\n",
    "  \\newcommand{\\avec}{\\boldsymbol{\\mathsf{a}}}\n",
    "  \\newcommand{\\bvec}{\\boldsymbol{\\mathsf{b}}}\n",
    "  \\newcommand{\\cvec}{\\boldsymbol{\\mathsf{c}}}\n",
    "  \\newcommand{\\rvec}{\\boldsymbol{\\mathsf{r}}}\n",
    "  \\newcommand{\\mvec}{\\boldsymbol{\\mathsf{m}}}\n",
    "  \\newcommand{\\gvec}{\\boldsymbol{\\mathsf{g}}}\n",
    "  \\newcommand{\\zerovec}{\\boldsymbol{\\mathsf{0}}}\n",
    "  \\newcommand{\\norm}[1]{\\bigl\\lVert{#1}\\bigr\\rVert}\n",
    "  \\newcommand{\\abs}[1]{\\left\\lvert{#1}\\right\\rvert}\n",
    "  \\newcommand{\\transpose}[1]{{#1}^\\top}\n",
    "  \\DeclareMathOperator{\\rank}{rank}\n",
    "  \\DeclareMathOperator{\\gradx}{\\nabla\\!_{\\xvec}}\n",
    "  \\newcommand{\\Kcal}{\\mathcal{K}}\n",
    "  \\newcommand{\\Fcal}{\\mathcal{F}}\n",
    "  \\newcommand{\\Kcalvec}{\\boldsymbol{\\mathcal{K}}}\n",
    "  \\newcommand{\\Fcalvec}{\\boldsymbol{\\mathcal{F}}}\n",
    "  \\newcommand{\\epsvec}{\\boldsymbol{\\varepsilon}}\n",
    "$"
   ]
  },
  {
   "cell_type": "markdown",
   "metadata": {},
   "source": [
    "---\n",
    "## Table of Contents<a id=\"toc\"></a>\n",
    "* [Analytical Methods of Solution](#ams)\n",
    " - Approximate analytical integration methods for time-dependent, one-dimensional spatial variable.\n",
    " - Approximate analytical integration methods for two-dimensional spatial variable.\n",
    "---"
   ]
  },
  {
   "cell_type": "markdown",
   "metadata": {},
   "source": [
    "## [Analytical Methods of Solution](#toc)<a id=\"ams\"></a>\n",
    "\n",
    "Revise standard analytical methods of solution of integro-differential equations from past courses in nuclear and chemical engineering. Only time-dependent equations with one-dimensional spatial variable or a total of two spatial varialbles, should be covered. These methods typically result in approximate solutions in terms of known mathematical functions."
   ]
  }
 ],
 "metadata": {
  "kernelspec": {
   "display_name": "Python 3",
   "language": "python",
   "name": "python3"
  },
  "language_info": {
   "codemirror_mode": {
    "name": "ipython",
    "version": 3
   },
   "file_extension": ".py",
   "mimetype": "text/x-python",
   "name": "python",
   "nbconvert_exporter": "python",
   "pygments_lexer": "ipython3",
   "version": "3.7.1"
  },
  "latex_envs": {
   "LaTeX_envs_menu_present": true,
   "autoclose": false,
   "autocomplete": true,
   "bibliofile": "biblio.bib",
   "cite_by": "apalike",
   "current_citInitial": 1,
   "eqLabelWithNumbers": true,
   "eqNumInitial": 1,
   "hotkeys": {
    "equation": "Ctrl-E",
    "itemize": "Ctrl-I"
   },
   "labels_anchors": false,
   "latex_user_defs": false,
   "report_style_numbering": false,
   "user_envs_cfg": false
  }
 },
 "nbformat": 4,
 "nbformat_minor": 2
}
